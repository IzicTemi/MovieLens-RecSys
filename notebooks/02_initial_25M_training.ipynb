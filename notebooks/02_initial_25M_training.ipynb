{
 "cells": [
  {
   "cell_type": "code",
   "execution_count": 2,
   "metadata": {},
   "outputs": [],
   "source": [
    "import pickle\n",
    "import lzma\n",
    "\n",
    "with lzma.open('movie_data_movielens.xz', 'rb') as f:\n",
    "    train_movie_ratings_list, test_movie_ratings_list = pickle.load(f)\n",
    "\n",
    "with lzma.open('user_data_movielens.xz', 'rb') as f:\n",
    "    train_user_ratings_list, test_user_ratings_list = pickle.load(f)\n",
    "\n",
    "with lzma.open('params_2024-05-02 15:54:11.158311.xz', 'rb') as f:\n",
    "    params = pickle.load(f)"
   ]
  },
  {
   "cell_type": "code",
   "execution_count": 4,
   "metadata": {},
   "outputs": [],
   "source": [
    "# Unpack Variables\n",
    "locals().update(params)"
   ]
  },
  {
   "cell_type": "code",
   "execution_count": 6,
   "metadata": {},
   "outputs": [
    {
     "data": {
      "application/vnd.jupyter.widget-view+json": {
       "model_id": "99e54b1df6034192afc43e8a73063ad5",
       "version_major": 2,
       "version_minor": 0
      },
      "text/plain": [
       "  0%|          | 0/100 [00:00<?, ?it/s]"
      ]
     },
     "metadata": {},
     "output_type": "display_data"
    },
    {
     "name": "stdout",
     "output_type": "stream",
     "text": [
      "train loss 37023034.55 test loss 9945238.05 train rmse 0.8588 test rmse 0.8854\n",
      "train loss 34945398.38 test loss 9519680.28 train rmse 0.834 test rmse 0.8652\n",
      "train loss 33914246.48 test loss 9261336.71 train rmse 0.8215 test rmse 0.8529\n",
      "train loss 33067516.25 test loss 9037567.7 train rmse 0.8111 test rmse 0.8422\n",
      "train loss 32563411.59 test loss 8905390.78 train rmse 0.8049 test rmse 0.8359\n",
      "train loss 32256503.71 test loss 8825311.27 train rmse 0.801 test rmse 0.8321\n",
      "train loss 32057858.29 test loss 8774427.7 train rmse 0.7985 test rmse 0.8296\n",
      "train loss 31921007.96 test loss 8739978.72 train rmse 0.7968 test rmse 0.8279\n",
      "train loss 31817366.82 test loss 8713991.18 train rmse 0.7955 test rmse 0.8266\n",
      "train loss 31731442.77 test loss 8692366.52 train rmse 0.7944 test rmse 0.8256\n",
      "train loss 31655338.79 test loss 8672854.38 train rmse 0.7935 test rmse 0.8247\n",
      "train loss 31585961.03 test loss 8654689.95 train rmse 0.7926 test rmse 0.8238\n",
      "train loss 31523312.46 test loss 8638011.31 train rmse 0.7918 test rmse 0.823\n",
      "train loss 31468261.75 test loss 8623163.84 train rmse 0.7911 test rmse 0.8223\n",
      "train loss 31421551.93 test loss 8610389.63 train rmse 0.7905 test rmse 0.8217\n",
      "train loss 31383206.87 test loss 8599711.09 train rmse 0.7901 test rmse 0.8212\n",
      "train loss 31352548.29 test loss 8591052.64 train rmse 0.7897 test rmse 0.8208\n",
      "train loss 31328498.09 test loss 8584152.79 train rmse 0.7894 test rmse 0.8204\n",
      "train loss 31309773.89 test loss 8578728.22 train rmse 0.7891 test rmse 0.8202\n",
      "train loss 31295163.78 test loss 8574518.92 train rmse 0.789 test rmse 0.82\n",
      "train loss 31283851.08 test loss 8571256.19 train rmse 0.7888 test rmse 0.8198\n",
      "train loss 31275130.6 test loss 8568754.87 train rmse 0.7887 test rmse 0.8197\n",
      "train loss 31268365.39 test loss 8566822.61 train rmse 0.7886 test rmse 0.8196\n",
      "train loss 31263057.94 test loss 8565314.6 train rmse 0.7885 test rmse 0.8195\n",
      "train loss 31258841.95 test loss 8564149.52 train rmse 0.7885 test rmse 0.8195\n",
      "train loss 31255426.88 test loss 8563238.84 train rmse 0.7885 test rmse 0.8194\n",
      "train loss 31252645.34 test loss 8562500.36 train rmse 0.7884 test rmse 0.8194\n",
      "train loss 31250383.27 test loss 8561906.33 train rmse 0.7884 test rmse 0.8194\n",
      "train loss 31248515.61 test loss 8561419.75 train rmse 0.7884 test rmse 0.8194\n",
      "train loss 31246956.76 test loss 8561017.62 train rmse 0.7883 test rmse 0.8193\n",
      "train loss 31245643.27 test loss 8560687.23 train rmse 0.7883 test rmse 0.8193\n",
      "train loss 31244527.0 test loss 8560416.84 train rmse 0.7883 test rmse 0.8193\n",
      "train loss 31243569.01 test loss 8560197.03 train rmse 0.7883 test rmse 0.8193\n",
      "train loss 31242738.45 test loss 8560016.45 train rmse 0.7883 test rmse 0.8193\n",
      "train loss 31242012.15 test loss 8559863.63 train rmse 0.7883 test rmse 0.8193\n",
      "train loss 31241373.77 test loss 8559735.04 train rmse 0.7883 test rmse 0.8193\n",
      "train loss 31240810.02 test loss 8559630.61 train rmse 0.7883 test rmse 0.8193\n",
      "train loss 31240310.45 test loss 8559549.52 train rmse 0.7883 test rmse 0.8193\n",
      "train loss 31239864.83 test loss 8559488.28 train rmse 0.7883 test rmse 0.8193\n",
      "train loss 31239462.91 test loss 8559445.91 train rmse 0.7883 test rmse 0.8193\n",
      "train loss 31239099.7 test loss 8559420.75 train rmse 0.7882 test rmse 0.8193\n",
      "train loss 31238772.4 test loss 8559403.34 train rmse 0.7882 test rmse 0.8193\n",
      "train loss 31238475.59 test loss 8559389.34 train rmse 0.7882 test rmse 0.8193\n",
      "train loss 31238203.93 test loss 8559378.06 train rmse 0.7882 test rmse 0.8193\n",
      "train loss 31237952.71 test loss 8559369.93 train rmse 0.7882 test rmse 0.8193\n",
      "train loss 31237717.38 test loss 8559366.43 train rmse 0.7882 test rmse 0.8193\n",
      "train loss 31237493.55 test loss 8559368.52 train rmse 0.7882 test rmse 0.8193\n",
      "train loss 31237280.04 test loss 8559372.64 train rmse 0.7882 test rmse 0.8193\n",
      "train loss 31237079.59 test loss 8559375.02 train rmse 0.7882 test rmse 0.8193\n",
      "train loss 31236894.05 test loss 8559379.28 train rmse 0.7882 test rmse 0.8193\n",
      "train loss 31236719.99 test loss 8559386.41 train rmse 0.7882 test rmse 0.8193\n",
      "train loss 31236553.69 test loss 8559395.49 train rmse 0.7882 test rmse 0.8193\n",
      "train loss 31236391.83 test loss 8559409.99 train rmse 0.7882 test rmse 0.8193\n",
      "train loss 31236236.16 test loss 8559425.56 train rmse 0.7882 test rmse 0.8193\n",
      "train loss 31236089.17 test loss 8559435.0 train rmse 0.7882 test rmse 0.8193\n",
      "train loss 31235948.25 test loss 8559449.29 train rmse 0.7882 test rmse 0.8193\n",
      "train loss 31235807.21 test loss 8559475.43 train rmse 0.7882 test rmse 0.8193\n",
      "train loss 31235666.77 test loss 8559500.88 train rmse 0.7882 test rmse 0.8193\n",
      "train loss 31235536.9 test loss 8559518.39 train rmse 0.7882 test rmse 0.8193\n",
      "train loss 31235414.81 test loss 8559534.37 train rmse 0.7882 test rmse 0.8193\n",
      "train loss 31235297.8 test loss 8559547.95 train rmse 0.7882 test rmse 0.8193\n",
      "train loss 31235184.76 test loss 8559558.7 train rmse 0.7882 test rmse 0.8193\n",
      "train loss 31235075.06 test loss 8559566.43 train rmse 0.7882 test rmse 0.8193\n",
      "train loss 31234968.24 test loss 8559570.13 train rmse 0.7882 test rmse 0.8193\n",
      "train loss 31234863.72 test loss 8559567.32 train rmse 0.7882 test rmse 0.8193\n",
      "train loss 31234760.21 test loss 8559553.33 train rmse 0.7882 test rmse 0.8193\n",
      "train loss 31234652.99 test loss 8559529.69 train rmse 0.7882 test rmse 0.8193\n",
      "train loss 31234533.27 test loss 8559537.63 train rmse 0.7882 test rmse 0.8193\n",
      "train loss 31234427.33 test loss 8559553.4 train rmse 0.7882 test rmse 0.8193\n",
      "train loss 31234330.62 test loss 8559568.66 train rmse 0.7882 test rmse 0.8193\n",
      "train loss 31234237.81 test loss 8559583.62 train rmse 0.7882 test rmse 0.8193\n",
      "train loss 31234147.31 test loss 8559597.45 train rmse 0.7882 test rmse 0.8193\n",
      "train loss 31234058.56 test loss 8559610.05 train rmse 0.7882 test rmse 0.8193\n",
      "train loss 31233970.89 test loss 8559621.32 train rmse 0.7882 test rmse 0.8193\n",
      "train loss 31233883.74 test loss 8559631.36 train rmse 0.7882 test rmse 0.8193\n",
      "train loss 31233798.09 test loss 8559639.8 train rmse 0.7882 test rmse 0.8193\n",
      "train loss 31233713.71 test loss 8559646.48 train rmse 0.7882 test rmse 0.8193\n",
      "train loss 31233630.53 test loss 8559652.38 train rmse 0.7882 test rmse 0.8193\n",
      "train loss 31233548.75 test loss 8559658.59 train rmse 0.7882 test rmse 0.8193\n",
      "train loss 31233468.38 test loss 8559665.22 train rmse 0.7882 test rmse 0.8193\n",
      "train loss 31233389.84 test loss 8559672.28 train rmse 0.7882 test rmse 0.8193\n",
      "train loss 31233313.27 test loss 8559679.65 train rmse 0.7882 test rmse 0.8193\n",
      "train loss 31233238.46 test loss 8559687.25 train rmse 0.7882 test rmse 0.8193\n",
      "train loss 31233165.17 test loss 8559695.03 train rmse 0.7882 test rmse 0.8193\n",
      "train loss 31233093.21 test loss 8559702.92 train rmse 0.7882 test rmse 0.8193\n",
      "train loss 31233022.44 test loss 8559710.82 train rmse 0.7882 test rmse 0.8193\n",
      "train loss 31232952.77 test loss 8559718.64 train rmse 0.7882 test rmse 0.8193\n"
     ]
    },
    {
     "ename": "KeyboardInterrupt",
     "evalue": "",
     "output_type": "error",
     "traceback": [
      "\u001b[0;31m---------------------------------------------------------------------------\u001b[0m",
      "\u001b[0;31mKeyboardInterrupt\u001b[0m                         Traceback (most recent call last)",
      "Cell \u001b[0;32mIn[6], line 72\u001b[0m\n\u001b[1;32m     70\u001b[0m \u001b[38;5;28;01mfor\u001b[39;00m (n, r) \u001b[38;5;129;01min\u001b[39;00m train_user_ratings_list[m]:\n\u001b[1;32m     71\u001b[0m   train_error_squared \u001b[38;5;241m+\u001b[39m\u001b[38;5;241m=\u001b[39m (r \u001b[38;5;241m-\u001b[39m (U[m]\u001b[38;5;241m.\u001b[39mT\u001b[38;5;241m.\u001b[39mdot(V[n]) \u001b[38;5;241m+\u001b[39m user_biases[m] \u001b[38;5;241m+\u001b[39m item_biases[n]))\u001b[38;5;241m*\u001b[39m\u001b[38;5;241m*\u001b[39m\u001b[38;5;241m2\u001b[39m\n\u001b[0;32m---> 72\u001b[0m   train_size \u001b[38;5;241m+\u001b[39m\u001b[38;5;241m=\u001b[39m \u001b[38;5;241m1\u001b[39m\n\u001b[1;32m     74\u001b[0m \u001b[38;5;28;01mfor\u001b[39;00m (n, r) \u001b[38;5;129;01min\u001b[39;00m test_user_ratings_list[m]:\n\u001b[1;32m     75\u001b[0m   test_error_squared \u001b[38;5;241m+\u001b[39m\u001b[38;5;241m=\u001b[39m (r \u001b[38;5;241m-\u001b[39m (U[m]\u001b[38;5;241m.\u001b[39mT\u001b[38;5;241m.\u001b[39mdot(V[n]) \u001b[38;5;241m+\u001b[39m user_biases[m] \u001b[38;5;241m+\u001b[39m item_biases[n]))\u001b[38;5;241m*\u001b[39m\u001b[38;5;241m*\u001b[39m\u001b[38;5;241m2\u001b[39m\n",
      "\u001b[0;31mKeyboardInterrupt\u001b[0m: "
     ]
    }
   ],
   "source": [
    "import numpy as np\n",
    "from tqdm.notebook import tqdm\n",
    "\n",
    "M = len(train_user_ratings_list)\n",
    "N = len(train_movie_ratings_list)\n",
    "\n",
    "\n",
    "user_biases = np.zeros((M))\n",
    "item_biases = np.zeros((N))\n",
    "\n",
    "# Hyperparameters\n",
    "n_epochs = 100\n",
    "lmb = 1\n",
    "gamma = 0.1\n",
    "tau = 1\n",
    "k = 2\n",
    "\n",
    "U = np.random.normal(loc=0.0, scale=1/np.sqrt(k), size=(M, k))\n",
    "V = np.random.normal(loc=0.0, scale=1/np.sqrt(k), size=(N, k))\n",
    "\n",
    "\n",
    "train_losses = []\n",
    "train_rmses = []\n",
    "test_losses = []\n",
    "test_rmses = []\n",
    "\n",
    "\n",
    "for i in tqdm(range(n_epochs)):\n",
    "  for m in range(M):\n",
    "    bias = 0\n",
    "    item_counter = 0\n",
    "    left = 0\n",
    "    right = 0\n",
    "    if train_user_ratings_list[m]:\n",
    "      for (n, r) in train_user_ratings_list[m]:\n",
    "        bias += lmb * (r - U[m].T.dot(V[n]) - item_biases[n])\n",
    "        item_counter += 1\n",
    "      bias = bias / (lmb * item_counter + gamma)\n",
    "      user_biases[m] = bias\n",
    "\n",
    "      for (n, r) in train_user_ratings_list[m]:\n",
    "        left += V[n]*V[n].reshape(-1, 1)\n",
    "        right += V[n]*(r - user_biases[m] - item_biases[n])\n",
    "      U[m] = np.linalg.solve(lmb*left + tau*np.eye(k), lmb*right)\n",
    "\n",
    "\n",
    "  for n in range(N):\n",
    "    bias = 0\n",
    "    user_counter = 0\n",
    "    left = 0\n",
    "    right = 0\n",
    "    if train_movie_ratings_list[n]:\n",
    "      for (m, r) in train_movie_ratings_list[n]:\n",
    "        bias += lmb * (r - U[m].T.dot(V[n]) - user_biases[m])\n",
    "        user_counter += 1\n",
    "      bias = bias / (lmb * user_counter + gamma)\n",
    "      item_biases[n] = bias\n",
    "\n",
    "      for (m, r) in train_movie_ratings_list[n]:\n",
    "        left += U[m]*U[m].reshape(-1, 1)\n",
    "        right += U[m]*(r - user_biases[m] - item_biases[n])\n",
    "      V[n] = np.linalg.solve(lmb*left + tau*np.eye(k), lmb*right)\n",
    "\n",
    "  train_error_squared = 0\n",
    "  test_error_squared = 0\n",
    "  train_size = 0\n",
    "  test_size = 0\n",
    "  for m in range(M):\n",
    "    \n",
    "    for (n, r) in train_user_ratings_list[m]:\n",
    "      train_error_squared += (r - (U[m].T.dot(V[n]) + user_biases[m] + item_biases[n]))**2\n",
    "      train_size += 1\n",
    "\n",
    "    for (n, r) in test_user_ratings_list[m]:\n",
    "      test_error_squared += (r - (U[m].T.dot(V[n]) + user_biases[m] + item_biases[n]))**2\n",
    "      test_size += 1\n",
    "\n",
    "  train_loss = -0.5*lmb*train_error_squared - 0.5*gamma*np.sum(user_biases**2) - 0.5*gamma*np.sum(item_biases**2) - 0.5*tau*(np.einsum('ij, ij->', V, V) + np.einsum('ij, ij->', U, U))\n",
    "  train_rmse = np.sqrt(1/train_size * train_error_squared)\n",
    "  train_losses.append(-1*train_loss)\n",
    "  train_rmses.append(train_rmse)\n",
    "\n",
    "  test_loss = -0.5*lmb*test_error_squared - 0.5*gamma*np.sum(user_biases**2) - 0.5*gamma*np.sum(item_biases**2) - 0.5*tau*(np.einsum('ij, ij->', V, V) + np.einsum('ij, ij->', U, U))\n",
    "  test_rmse = np.sqrt(1/test_size * test_error_squared)\n",
    "  test_losses.append(-1*test_loss)\n",
    "  test_rmses.append(test_rmse)\n",
    "\n",
    "  print(f'train loss {round(-1*train_loss, 2)} test loss {round(-1*test_loss, 2)} train rmse {round(train_rmse, 4)} test rmse {round(test_rmse, 4)}')"
   ]
  },
  {
   "cell_type": "code",
   "execution_count": 7,
   "metadata": {},
   "outputs": [],
   "source": [
    "params = {\n",
    "    'user_biases':user_biases,\n",
    "    'item_biases':item_biases,\n",
    "    'n_epochs':n_epochs, \n",
    "    'lmb':lmb, \n",
    "    'gamma':gamma, \n",
    "    'tau':tau, \n",
    "    'k': k, \n",
    "    'U':U, \n",
    "    'V': V, \n",
    "    'train_rmses':train_rmses, \n",
    "    'train_losses':train_losses,\n",
    "    'test_rmses': test_rmses,\n",
    "    'test_losses': test_losses,\n",
    "}"
   ]
  },
  {
   "cell_type": "code",
   "execution_count": 8,
   "metadata": {},
   "outputs": [],
   "source": [
    "import pickle\n",
    "import lzma\n",
    "import datetime;\n",
    " \n",
    "# ct stores current time\n",
    "ct = datetime.datetime.now()\n",
    "\n",
    "with lzma.open(f'params_k={k}_{ct}.xz', 'wb') as f:\n",
    "    pickle.dump(params, f, protocol=4)"
   ]
  },
  {
   "cell_type": "code",
   "execution_count": 9,
   "metadata": {},
   "outputs": [
    {
     "data": {
      "image/png": "[encoded data removed]",
      "text/plain": [
       "<Figure size 640x480 with 1 Axes>"
      ]
     },
     "metadata": {},
     "output_type": "display_data"
    }
   ],
   "source": [
    "import matplotlib.pyplot as plt\n",
    "\n",
    "plt.plot(train_losses, label='train')\n",
    "plt.plot(test_losses, label='test')\n",
    "plt.legend()\n",
    "plt.show()"
   ]
  },
  {
   "cell_type": "code",
   "execution_count": 10,
   "metadata": {
    "scrolled": true
   },
   "outputs": [
    {
     "data": {
      "image/png": "[encoded data removed]",
      "text/plain": [
       "<Figure size 640x480 with 1 Axes>"
      ]
     },
     "metadata": {},
     "output_type": "display_data"
    }
   ],
   "source": [
    "plt.plot(train_rmses, label='train')\n",
    "plt.plot(test_rmses, label='test')\n",
    "plt.legend()\n",
    "plt.show()"
   ]
  }
 ],
 "metadata": {
  "kernelspec": {
   "display_name": "applied-ml",
   "language": "python",
   "name": "applied-ml"
  },
  "language_info": {
   "codemirror_mode": {
    "name": "ipython",
    "version": 3
   },
   "file_extension": ".py",
   "mimetype": "text/x-python",
   "name": "python",
   "nbconvert_exporter": "python",
   "pygments_lexer": "ipython3",
   "version": "3.11.2"
  }
 },
 "nbformat": 4,
 "nbformat_minor": 4
}
