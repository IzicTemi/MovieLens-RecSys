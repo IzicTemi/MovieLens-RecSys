{
 "cells": [
  {
   "cell_type": "code",
   "execution_count": 5,
   "metadata": {},
   "outputs": [],
   "source": [
    "import pickle\n",
    "import lzma\n",
    "\n",
    "with lzma.open('movie_data_movielens.xz', 'rb') as f:\n",
    "    train_movie_ratings_list, test_movie_ratings_list = pickle.load(f)"
   ]
  },
  {
   "cell_type": "code",
   "execution_count": 1,
   "metadata": {},
   "outputs": [],
   "source": [
    "import pickle\n",
    "import lzma\n",
    "\n",
    "with lzma.open('params_with_f_k=10_2024-05-15 08:15:55.448059.xz', 'rb') as f:\n",
    "    params = pickle.load(f)\n",
    "\n",
    "locals().update(params)"
   ]
  },
  {
   "cell_type": "code",
   "execution_count": 6,
   "metadata": {},
   "outputs": [],
   "source": [
    "movie_ratings_list = [a+b for a, b in zip(train_movie_ratings_list, test_movie_ratings_list)]\n",
    "del train_movie_ratings_list, test_movie_ratings_list"
   ]
  },
  {
   "cell_type": "code",
   "execution_count": 2,
   "metadata": {},
   "outputs": [],
   "source": [
    "with lzma.open('movies_map.xz', 'rb') as f:\n",
    "    title_to_id_moviesmap, id_to_title_moviesmap, id_to_genres_moviesmap = pickle.load(f)"
   ]
  },
  {
   "cell_type": "code",
   "execution_count": 3,
   "metadata": {},
   "outputs": [],
   "source": [
    "with lzma.open('general_movielens.xz', 'rb') as f:\n",
    "    userid_to_index, index_to_userid, movieid_to_index, index_to_movieid = pickle.load(f)"
   ]
  },
  {
   "cell_type": "code",
   "execution_count": 7,
   "metadata": {},
   "outputs": [],
   "source": [
    "import numpy as np\n",
    "unpopular_movies = []\n",
    "# movie_indices = []\n",
    "for index, movie in enumerate(movie_ratings_list):\n",
    "    if len(movie) < 50:\n",
    "        unpopular_movies.append(index)\n",
    "unpopular_movies = np.array(unpopular_movies)"
   ]
  },
  {
   "cell_type": "code",
   "execution_count": 8,
   "metadata": {},
   "outputs": [],
   "source": [
    "all_genres = ['Adventure',\n",
    " 'Animation',\n",
    " 'Children',\n",
    " 'Comedy',\n",
    " 'Fantasy',\n",
    " 'Romance',\n",
    " 'Drama',\n",
    " 'Action',\n",
    " 'Crime',\n",
    " 'Thriller',\n",
    " 'Horror',\n",
    " 'Mystery',\n",
    " 'Sci-Fi',\n",
    " 'IMAX',\n",
    " 'Documentary',\n",
    " 'War',\n",
    " 'Musical',\n",
    " 'Western',\n",
    " 'Film-Noir']\n",
    "\n",
    "def parser(val):\n",
    "  init = np.zeros(len(all_genres), dtype=int)\n",
    "  val_list = val.split('|')\n",
    "  if val_list[0] != '(no genres listed)':\n",
    "    indices = [all_genres.index(v) for v in val_list]\n",
    "    init[indices] = 1\n",
    "  return init"
   ]
  },
  {
   "cell_type": "code",
   "execution_count": 9,
   "metadata": {},
   "outputs": [],
   "source": [
    "import numpy as np\n",
    "\n",
    "def train_new_user_unk(movies_list, iter=400):\n",
    "    unk = len(movies_list)\n",
    "    U = np.zeros((k))\n",
    "    V = np.zeros((unk, k))\n",
    "    item_biases = np.zeros((unk))\n",
    "    user_bias = 0\n",
    "    jitter = 1e-20\n",
    "    ratings = np.array([r for (_, r) in movies_list]) \n",
    "    feature_vector = np.array([parser(f) for (f, _) in movies_list])\n",
    "    for _ in range(iter):\n",
    "        # movies_array = np.array(movies_list) \n",
    "        user_bias = lmb * np.sum(ratings - np.einsum('i,ji->j', U, V) - item_biases) / (lmb * unk + gamma)\n",
    "    \n",
    "        left = np.sum(np.einsum('ij,il->ijl', V, V), axis=0)\n",
    "        right = np.sum(np.einsum('ji,j->ji', V, ratings - user_bias - item_biases), axis=0)\n",
    "    \n",
    "        U = np.linalg.solve(lmb * left + tau * np.eye(k), lmb * right)\n",
    "\n",
    "        for n in range(unk):\n",
    "            # Calculate item bias\n",
    "            item_bias = lmb * np.sum(ratings - np.einsum('ij,j->i', U[None, :], V[n]) - user_bias) / (lmb * unk + gamma)\n",
    "            item_biases[n] = item_bias\n",
    "            # Calculate left and right matrices for item factor update\n",
    "            left = np.sum(np.einsum('ij,il->ijl', U[None, :], U[None, :]), axis=0)\n",
    "            right = np.sum(np.einsum('ji,i->ji', U[None, :], ratings - user_bias - item_bias), axis=0)\n",
    "        \n",
    "            total_right = lmb * right + tau * 1/np.sqrt(np.sum(feature_vector[n])+jitter) * np.einsum('i, ij -> j', feature_vector[n], F)\n",
    "            V[n] = np.linalg.solve(lmb * left + tau * np.eye(k), total_right)\n",
    "    return U, V"
   ]
  },
  {
   "cell_type": "code",
   "execution_count": 12,
   "metadata": {},
   "outputs": [],
   "source": [
    "def get_valid_movies(movie_indices, n):\n",
    "    valid_movies = []\n",
    "    for movie in movie_indices:\n",
    "        if movie not in unpopular_movies:\n",
    "            valid_movies.append(movie)\n",
    "    return valid_movies[:n]"
   ]
  },
  {
   "cell_type": "code",
   "execution_count": 13,
   "metadata": {},
   "outputs": [],
   "source": [
    "import numpy as np\n",
    "\n",
    "def train_new_user(movies_list, iter=400):\n",
    "    U = np.zeros((k))\n",
    "\n",
    "    for _ in range(iter):\n",
    "        movies_array = np.array(movies_list)\n",
    "        ratings = movies_array[:, 1]\n",
    "        indices = movies_array[:, 0].astype(int)\n",
    "        user_bias = lmb * np.sum(ratings - np.einsum('i,ji->j', U, V[indices]) - item_biases[indices]) / (lmb * len(indices) + gamma)\n",
    "    \n",
    "        left = np.sum(np.einsum('ij,il->ijl', V[indices], V[indices]), axis=0)\n",
    "        right = np.sum(np.einsum('ji,j->ji', V[indices], ratings - user_bias - item_biases[indices]), axis=0)\n",
    "    \n",
    "        U = np.linalg.solve(lmb * left + tau * np.eye(k), lmb * right)\n",
    "        # print(U, user_bias)\n",
    "    return U\n",
    "    \n",
    "def predict(movies_list, n=10, threshold=0.1):\n",
    "    movie_ids = []\n",
    "    U = train_new_user(movies_list)\n",
    "    movie_indices = np.argsort(np.einsum('i,ji->j', U, V) + threshold*item_biases)[::-1]\n",
    "    predictions = get_valid_movies(movie_indices, n)\n",
    "    # predictions = movie_indices[:n]\n",
    "    for i, indices in enumerate(predictions):\n",
    "        movie_id = index_to_movieid[indices]\n",
    "        movie_ids.append(movie_id)\n",
    "        print(f'{i+1}:{id_to_title_moviesmap[movie_id]}')\n",
    "    # return movie_ids"
   ]
  },
  {
   "cell_type": "code",
   "execution_count": 32,
   "metadata": {},
   "outputs": [
    {
     "data": {
      "text/plain": [
       "'Adventure|Comedy'"
      ]
     },
     "execution_count": 32,
     "metadata": {},
     "output_type": "execute_result"
    }
   ],
   "source": [
    "id_to_genres_moviesmap[2133]"
   ]
  },
  {
   "cell_type": "code",
   "execution_count": 68,
   "metadata": {},
   "outputs": [],
   "source": [
    "def predict_unk(movies_list, n=10, threshold=0.1, iter=400):\n",
    "    movie_ids = []\n",
    "    U, movie_embeddings = train_new_user_unk(movies_list, iter)\n",
    "    movie_indices = np.argsort(np.einsum('i,ji->j', U, V) + threshold*item_biases)[::-1]\n",
    "    predictions = get_valid_movies(movie_indices, n)\n",
    "    # predictions = movie_indices[:n]\n",
    "    for i, indices in enumerate(predictions):\n",
    "        movie_id = index_to_movieid[indices]\n",
    "        movie_ids.append(movie_id)\n",
    "        print(f'{i+1} : {id_to_title_moviesmap[movie_id]} : {id_to_genres_moviesmap[movie_id]}')\n",
    "    # return movie_ids\n",
    "    return movie_embeddings"
   ]
  },
  {
   "cell_type": "code",
   "execution_count": 69,
   "metadata": {},
   "outputs": [],
   "source": [
    "import re\n",
    "def check(val, movies):\n",
    "  matched = []\n",
    "  for movie in movies:\n",
    "    if re.search(val, movie.lower()):\n",
    "      matched.append(movie)\n",
    "  return matched"
   ]
  },
  {
   "cell_type": "code",
   "execution_count": 70,
   "metadata": {
    "scrolled": true
   },
   "outputs": [],
   "source": [
    "def get_possible_movie_indices(search_movie, movies_map):\n",
    "  possible_movies = movies_map.keys()\n",
    "  for val in search_movie.split():\n",
    "    possible_movies = check(val, possible_movies)\n",
    "\n",
    "  for possible_movie in possible_movies:\n",
    "    try:\n",
    "        print(f'{movieid_to_index[movies_map[possible_movie]]} : {possible_movie} : {movies_map[possible_movie]}')\n",
    "    except KeyError:\n",
    "        continue"
   ]
  },
  {
   "cell_type": "code",
   "execution_count": 71,
   "metadata": {},
   "outputs": [
    {
     "name": "stdout",
     "output_type": "stream",
     "text": [
      "2189 : Lord of the Rings, The (1978) : 2116\n",
      "202 : Lord of the Rings: The Fellowship of the Ring, The (2001) : 4993\n",
      "36 : Lord of the Rings: The Two Towers, The (2002) : 5952\n",
      "227 : Lord of the Rings: The Return of the King, The (2003) : 7153\n",
      "58405 : The Lord of the G-Strings: The Femaleship of the String (2003) : 182439\n"
     ]
    }
   ],
   "source": [
    "get_possible_movie_indices('lord of the rings', title_to_id_moviesmap)"
   ]
  },
  {
   "cell_type": "code",
   "execution_count": 72,
   "metadata": {
    "scrolled": true
   },
   "outputs": [
    {
     "name": "stdout",
     "output_type": "stream",
     "text": [
      "1 : Pooh's Heffalump Movie (2005) : Animation|Children\n",
      "2 : Return to Never Land (2002) : Adventure|Animation|Children\n",
      "3 : Wild Thornberrys Movie, The (2002) : Animation|Children|Comedy\n",
      "4 : Piglet's Big Movie (2003) : Animation|Children\n",
      "5 : Shrek the Halls (2007) : Adventure|Animation|Comedy|Fantasy\n",
      "6 : Shrek Forever After (a.k.a. Shrek: The Final Chapter) (2010) : Adventure|Animation|Children|Comedy|Fantasy|IMAX\n",
      "7 : Winnie the Pooh and Tigger Too (1974) : Animation|Children\n",
      "8 : Ice Age: A Mammoth Christmas (2011) : Adventure|Animation|Children\n",
      "9 : Ice Age: Dawn of the Dinosaurs (2009) : Action|Adventure|Animation|Children|Comedy|Romance\n",
      "10 : Tinker Bell and the Legend of the NeverBeast (2014) : Adventure|Animation|Children\n"
     ]
    }
   ],
   "source": [
    "a = predict_unk([('Adventure|Animation|Children', 5)], 10, 0.1, 200)"
   ]
  },
  {
   "cell_type": "code",
   "execution_count": 74,
   "metadata": {},
   "outputs": [
    {
     "data": {
      "image/png": "[encoded data removed]",
      "text/plain": [
       "<Figure size 1000x800 with 1 Axes>"
      ]
     },
     "metadata": {},
     "output_type": "display_data"
    }
   ],
   "source": [
    "from sklearn.decomposition import PCA\n",
    "\n",
    "pca = PCA(n_components=2)\n",
    "\n",
    "b = pca.fit_transform(F)\n",
    "\n",
    "u = pca.transform(a)\n",
    "\n",
    "import matplotlib.pyplot as plt\n",
    "fig, ax = plt.subplots(figsize=(10, 8))\n",
    "ax.scatter(b[:,0], b[:,1], c='blue', s=50)\n",
    "ax.scatter(u[:,0], u[:,1], c='red', s=80)\n",
    "for q, txt in enumerate(all_genres):\n",
    "    ax.annotate(txt, (b[q,0], b[q,1]), horizontalalignment='left', verticalalignment='bottom')\n",
    "# ax.annotate('New Movie', (u[:,0], u[:,1]), horizontalalignment='center', verticalalignment='top')\n",
    "ax.set_xlabel('Dimension 1')\n",
    "ax.set_ylabel('Dimension 2')\n",
    "plt.savefig('coldstart_feature_embedding_plots.pdf', bbox_inches='tight')\n",
    "# plt.show()"
   ]
  },
  {
   "cell_type": "code",
   "execution_count": 205,
   "metadata": {},
   "outputs": [
    {
     "data": {
      "text/plain": [
       "array([[ 0.18365875, -0.00422079],\n",
       "       [ 0.08290038, -0.36793085],\n",
       "       [ 0.11657782, -0.22598699],\n",
       "       [-0.14375655, -0.01839246],\n",
       "       [ 0.09340901,  0.05604122],\n",
       "       [-0.06355326, -0.0678117 ],\n",
       "       [-0.30701766, -0.11614658],\n",
       "       [ 0.16338115,  0.29723354],\n",
       "       [-0.10471018,  0.11431107],\n",
       "       [ 0.02341749,  0.37756523],\n",
       "       [-0.07859573,  0.88165364],\n",
       "       [-0.08209636,  0.14601885],\n",
       "       [ 0.11186009,  0.42264394],\n",
       "       [ 1.75700286, -0.26073782],\n",
       "       [-0.44750173, -0.48228398],\n",
       "       [-0.16204076, -0.14726412],\n",
       "       [-0.24163976, -0.31682906],\n",
       "       [-0.39882306, -0.04269854],\n",
       "       [-0.50247249, -0.24516462]])"
      ]
     },
     "execution_count": 205,
     "metadata": {},
     "output_type": "execute_result"
    }
   ],
   "source": [
    "b"
   ]
  },
  {
   "cell_type": "code",
   "execution_count": null,
   "metadata": {},
   "outputs": [],
   "source": []
  }
 ],
 "metadata": {
  "kernelspec": {
   "display_name": "applied-ml",
   "language": "python",
   "name": "applied-ml"
  },
  "language_info": {
   "codemirror_mode": {
    "name": "ipython",
    "version": 3
   },
   "file_extension": ".py",
   "mimetype": "text/x-python",
   "name": "python",
   "nbconvert_exporter": "python",
   "pygments_lexer": "ipython3",
   "version": "3.11.2"
  }
 },
 "nbformat": 4,
 "nbformat_minor": 4
}
