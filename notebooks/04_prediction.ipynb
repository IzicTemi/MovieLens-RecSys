{
 "cells": [
  {
   "cell_type": "code",
   "execution_count": 2,
   "metadata": {},
   "outputs": [],
   "source": [
    "import pickle\n",
    "import lzma\n",
    "\n",
    "with lzma.open('movie_data_movielens.xz', 'rb') as f:\n",
    "    train_movie_ratings_list, test_movie_ratings_list = pickle.load(f)"
   ]
  },
  {
   "cell_type": "code",
   "execution_count": 2,
   "metadata": {},
   "outputs": [],
   "source": [
    "with lzma.open('params_k=10_2024-05-14 18:52:32.259848.xz', 'rb') as f:\n",
    "    params = pickle.load(f)"
   ]
  },
  {
   "cell_type": "code",
   "execution_count": 3,
   "metadata": {},
   "outputs": [],
   "source": [
    "movie_ratings_list = [a+b for a, b in zip(train_movie_ratings_list, test_movie_ratings_list)]\n",
    "del train_movie_ratings_list, test_movie_ratings_list"
   ]
  },
  {
   "cell_type": "code",
   "execution_count": 1,
   "metadata": {},
   "outputs": [
    {
     "ename": "NameError",
     "evalue": "name 'lzma' is not defined",
     "output_type": "error",
     "traceback": [
      "\u001b[0;31m---------------------------------------------------------------------------\u001b[0m",
      "\u001b[0;31mNameError\u001b[0m                                 Traceback (most recent call last)",
      "Cell \u001b[0;32mIn[1], line 1\u001b[0m\n\u001b[0;32m----> 1\u001b[0m \u001b[38;5;28;01mwith\u001b[39;00m \u001b[43mlzma\u001b[49m\u001b[38;5;241m.\u001b[39mopen(\u001b[38;5;124m'\u001b[39m\u001b[38;5;124mmovies_map.xz\u001b[39m\u001b[38;5;124m'\u001b[39m, \u001b[38;5;124m'\u001b[39m\u001b[38;5;124mrb\u001b[39m\u001b[38;5;124m'\u001b[39m) \u001b[38;5;28;01mas\u001b[39;00m f:\n\u001b[1;32m      2\u001b[0m     title_to_id_moviesmap, id_to_title_moviesmap, id_to_genres_moviesmap \u001b[38;5;241m=\u001b[39m pickle\u001b[38;5;241m.\u001b[39mload(f)\n",
      "\u001b[0;31mNameError\u001b[0m: name 'lzma' is not defined"
     ]
    }
   ],
   "source": [
    "with lzma.open('movies_map.xz', 'rb') as f:\n",
    "    title_to_id_moviesmap, id_to_title_moviesmap, id_to_genres_moviesmap = pickle.load(f)"
   ]
  },
  {
   "cell_type": "code",
   "execution_count": 5,
   "metadata": {},
   "outputs": [],
   "source": [
    "with lzma.open('general_movielens.xz', 'rb') as f:\n",
    "    userid_to_index, index_to_userid, movieid_to_index, index_to_movieid = pickle.load(f)"
   ]
  },
  {
   "cell_type": "code",
   "execution_count": 6,
   "metadata": {},
   "outputs": [],
   "source": [
    "import numpy as np\n",
    "unpopular_movies = []\n",
    "# movie_indices = []\n",
    "for index, movie in enumerate(movie_ratings_list):\n",
    "    if len(movie) < 50:\n",
    "        unpopular_movies.append(index)\n",
    "unpopular_movies = np.array(unpopular_movies)"
   ]
  },
  {
   "cell_type": "code",
   "execution_count": 7,
   "metadata": {},
   "outputs": [],
   "source": [
    "locals().update(params)"
   ]
  },
  {
   "cell_type": "code",
   "execution_count": 8,
   "metadata": {},
   "outputs": [],
   "source": [
    "import numpy as np\n",
    "\n",
    "def train_new_user(movies_list, iter=400):\n",
    "    U = np.zeros((k))\n",
    "\n",
    "    for _ in range(iter):\n",
    "        movies_array = np.array(movies_list)\n",
    "        ratings = movies_array[:, 1]\n",
    "        indices = movies_array[:, 0].astype(int)\n",
    "        user_bias = lmb * np.sum(ratings - np.einsum('i,ji->j', U, V[indices]) - item_biases[indices]) / (lmb * len(indices) + gamma)\n",
    "    \n",
    "        left = np.sum(np.einsum('ij,il->ijl', V[indices], V[indices]), axis=0)\n",
    "        right = np.sum(np.einsum('ji,j->ji', V[indices], ratings - user_bias - item_biases[indices]), axis=0)\n",
    "    \n",
    "        U = np.linalg.solve(lmb * left + tau * np.eye(k), lmb * right)\n",
    "        # print(U, user_bias)\n",
    "    return U"
   ]
  },
  {
   "cell_type": "code",
   "execution_count": 9,
   "metadata": {},
   "outputs": [],
   "source": [
    "def get_valid_movies(movie_indices, n):\n",
    "    valid_movies = []\n",
    "    for movie in movie_indices:\n",
    "        if movie not in unpopular_movies:\n",
    "            valid_movies.append(movie)\n",
    "    return valid_movies[:n]"
   ]
  },
  {
   "cell_type": "code",
   "execution_count": 10,
   "metadata": {},
   "outputs": [],
   "source": [
    "def predict(movies_list, n=10, threshold=0.1):\n",
    "    movie_ids = []\n",
    "    U = train_new_user(movies_list)\n",
    "    movie_indices = np.argsort(np.einsum('i,ji->j', U, V) + threshold*item_biases)[::-1]\n",
    "    predictions = get_valid_movies(movie_indices, n)\n",
    "    # predictions = movie_indices[:n]\n",
    "    for i, indices in enumerate(predictions):\n",
    "        movie_id = index_to_movieid[indices]\n",
    "        movie_ids.append(movie_id)\n",
    "        print(f'{i+1}:{id_to_title_moviesmap[movie_id]}')\n",
    "    # return movie_ids"
   ]
  },
  {
   "cell_type": "code",
   "execution_count": 11,
   "metadata": {},
   "outputs": [],
   "source": [
    "import re\n",
    "def check(val, movies):\n",
    "  matched = []\n",
    "  for movie in movies:\n",
    "    if re.search(val, movie.lower()):\n",
    "      matched.append(movie)\n",
    "  return matched"
   ]
  },
  {
   "cell_type": "code",
   "execution_count": 12,
   "metadata": {
    "scrolled": true
   },
   "outputs": [],
   "source": [
    "def get_possible_movie_indices(search_movie, movies_map):\n",
    "  possible_movies = movies_map.keys()\n",
    "  for val in search_movie.split():\n",
    "    possible_movies = check(val, possible_movies)\n",
    "\n",
    "  for possible_movie in possible_movies:\n",
    "    try:\n",
    "        print(f'{movieid_to_index[movies_map[possible_movie]]} : {possible_movie} : {movies_map[possible_movie]}')\n",
    "    except KeyError:\n",
    "        continue"
   ]
  },
  {
   "cell_type": "code",
   "execution_count": 15,
   "metadata": {},
   "outputs": [
    {
     "name": "stdout",
     "output_type": "stream",
     "text": [
      "2189 : lord of the rings, the (1978) : 2116\n",
      "202 : lord of the rings: the fellowship of the ring, the (2001) : 4993\n",
      "36 : lord of the rings: the two towers, the (2002) : 5952\n",
      "227 : lord of the rings: the return of the king, the (2003) : 7153\n",
      "58405 : the lord of the g-strings: the femaleship of the string (2003) : 182439\n"
     ]
    }
   ],
   "source": [
    "get_possible_movie_indices('lord of the rings', title_to_id_moviesmap)"
   ]
  },
  {
   "cell_type": "code",
   "execution_count": 16,
   "metadata": {
    "scrolled": true
   },
   "outputs": [
    {
     "name": "stdout",
     "output_type": "stream",
     "text": [
      "1:lord of the rings, the (1978)\n",
      "2:lord of the rings: the return of the king, the (2003)\n",
      "3:lord of the rings: the two towers, the (2002)\n",
      "4:the hobbit: the battle of the five armies (2014)\n",
      "5:lord of the rings: the fellowship of the ring, the (2001)\n",
      "6:hobbit: the desolation of smaug, the (2013)\n",
      "7:star wars: episode iii - revenge of the sith (2005)\n",
      "8:star wars: episode ii - attack of the clones (2002)\n",
      "9:hobbit: an unexpected journey, the (2012)\n",
      "10:harry potter and the deathly hallows: part 2 (2011)\n",
      "11:what the #$*! do we know!? (a.k.a. what the bleep do we know!?) (2004)\n",
      "12:harry potter and the deathly hallows: part 1 (2010)\n",
      "13:harry potter and the half-blood prince (2009)\n",
      "14:harry potter and the order of the phoenix (2007)\n",
      "15:star wars: episode vi - return of the jedi (1983)\n",
      "16:star wars: episode i - the phantom menace (1999)\n",
      "17:dune (1984)\n",
      "18:harry potter and the goblet of fire (2005)\n",
      "19:black hole, the (1979)\n",
      "20:greatest story ever told, the (1965)\n"
     ]
    }
   ],
   "source": [
    "predict([(2189, 5)], 20, 0.2)"
   ]
  },
  {
   "cell_type": "code",
   "execution_count": 65,
   "metadata": {},
   "outputs": [
    {
     "name": "stdout",
     "output_type": "stream",
     "text": [
      "1:eyes wide shut (1999)\n",
      "2:thin red line, the (1998)\n",
      "3:a.i. artificial intelligence (2001)\n",
      "4:saving private ryan (1998)\n",
      "5:matrix reloaded, the (2003)\n",
      "6:matrix revolutions, the (2003)\n",
      "7:forrest gump (1994)\n",
      "8:dances with wolves (1990)\n",
      "9:braveheart (1995)\n",
      "10:jfk (1991)\n",
      "11:gladiator (2000)\n",
      "12:matrix, the (1999)\n",
      "13:cast away (2000)\n",
      "14:bringing out the dead (1999)\n",
      "15:vanilla sky (2001)\n",
      "16:2001: a space odyssey (1968)\n",
      "17:star wars: episode iii - revenge of the sith (2005)\n",
      "18:nixon (1995)\n",
      "19:godfather: part iii, the (1990)\n",
      "20:castaway (1986)\n"
     ]
    }
   ],
   "source": [
    "predict([(245, 5), (693, 2)], 20, 0.2)"
   ]
  },
  {
   "cell_type": "code",
   "execution_count": null,
   "metadata": {},
   "outputs": [],
   "source": []
  }
 ],
 "metadata": {
  "kernelspec": {
   "display_name": "applied-ml",
   "language": "python",
   "name": "applied-ml"
  },
  "language_info": {
   "codemirror_mode": {
    "name": "ipython",
    "version": 3
   },
   "file_extension": ".py",
   "mimetype": "text/x-python",
   "name": "python",
   "nbconvert_exporter": "python",
   "pygments_lexer": "ipython3",
   "version": "3.11.2"
  }
 },
 "nbformat": 4,
 "nbformat_minor": 4
}
