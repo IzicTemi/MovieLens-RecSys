{
 "cells": [
  {
   "cell_type": "code",
   "execution_count": 1,
   "metadata": {},
   "outputs": [],
   "source": [
    "import pickle\n",
    "import lzma\n",
    "\n",
    "with lzma.open('movie_data_movielens.xz', 'rb') as f:\n",
    "    train_movie_ratings_list, test_movie_ratings_list = pickle.load(f)\n",
    "\n",
    "with lzma.open('user_data_movielens.xz', 'rb') as f:\n",
    "    train_user_ratings_list, test_user_ratings_list = pickle.load(f)"
   ]
  },
  {
   "cell_type": "code",
   "execution_count": 2,
   "metadata": {},
   "outputs": [],
   "source": [
    "import numpy as np\n",
    "\n",
    "def arraylize(input_list):\n",
    "    return [np.array(val) for val in input_list]\n",
    "\n",
    "train_movie_ratings_list = arraylize(train_movie_ratings_list)\n",
    "test_movie_ratings_list = arraylize(test_movie_ratings_list)\n",
    "train_user_ratings_list = arraylize(train_user_ratings_list)\n",
    "test_user_ratings_list = arraylize(test_user_ratings_list)"
   ]
  },
  {
   "cell_type": "code",
   "execution_count": 3,
   "metadata": {},
   "outputs": [],
   "source": [
    "with lzma.open('params_2024-05-02 11:05:36.932319.xz', 'rb') as f:\n",
    "    params = pickle.load(f)\n",
    "\n",
    "locals().update(params)"
   ]
  },
  {
   "cell_type": "code",
   "execution_count": 3,
   "metadata": {},
   "outputs": [],
   "source": [
    "M = len(train_user_ratings_list)\n",
    "N = len(train_movie_ratings_list)\n",
    "\n",
    "user_biases = np.zeros((M))\n",
    "item_biases = np.zeros((N))\n",
    "\n",
    "# Hyperparameters\n",
    "n_epochs = 100\n",
    "lmb = 1\n",
    "gamma = 0\n",
    "tau = 1\n",
    "k = 20\n",
    "\n",
    "U = np.random.normal(loc=0.0, scale=1/np.sqrt(k), size=(M, k))\n",
    "V = np.random.normal(loc=0.0, scale=1/np.sqrt(k), size=(N, k))\n",
    "\n",
    "train_losses = []\n",
    "train_rmses = []\n",
    "test_losses = []\n",
    "test_rmses = []"
   ]
  },
  {
   "cell_type": "code",
   "execution_count": 4,
   "metadata": {
    "scrolled": true
   },
   "outputs": [
    {
     "data": {
      "application/vnd.jupyter.widget-view+json": {
       "model_id": "76c09e2510ff4772a3681d0550e4d411",
       "version_major": 2,
       "version_minor": 0
      },
      "text/plain": [
       "  0%|          | 0/100 [00:00<?, ?it/s]"
      ]
     },
     "metadata": {},
     "output_type": "display_data"
    },
    {
     "name": "stdout",
     "output_type": "stream",
     "text": [
      "train loss 6506173.1 test loss 2412518.58 train rmse 0.7903 test rmse 0.928\n",
      "train loss 5532990.73 test loss 2200822.35 train rmse 0.7269 test rmse 0.8837\n",
      "train loss 5045605.26 test loss 2064538.23 train rmse 0.6932 test rmse 0.8544\n",
      "train loss 4801378.25 test loss 1992991.31 train rmse 0.676 test rmse 0.8393\n",
      "train loss 4662305.32 test loss 1951915.36 train rmse 0.6661 test rmse 0.8311\n",
      "train loss 4574630.57 test loss 1926047.77 train rmse 0.6599 test rmse 0.8264\n",
      "train loss 4514383.96 test loss 1908262.06 train rmse 0.6558 test rmse 0.8234\n",
      "train loss 4469998.75 test loss 1895174.4 train rmse 0.6527 test rmse 0.8213\n",
      "train loss 4435595.08 test loss 1885124.44 train rmse 0.6504 test rmse 0.8199\n",
      "train loss 4408013.98 test loss 1877214.51 train rmse 0.6486 test rmse 0.8189\n",
      "train loss 4385435.91 test loss 1870899.17 train rmse 0.6471 test rmse 0.8181\n",
      "train loss 4366704.39 test loss 1865820.85 train rmse 0.6459 test rmse 0.8176\n",
      "train loss 4351009.24 test loss 1861730.67 train rmse 0.6449 test rmse 0.8173\n",
      "train loss 4337744.72 test loss 1858440.02 train rmse 0.644 test rmse 0.817\n",
      "train loss 4326444.83 test loss 1855795.24 train rmse 0.6433 test rmse 0.8169\n",
      "train loss 4316746.23 test loss 1853672.3 train rmse 0.6427 test rmse 0.8169\n",
      "train loss 4308362.53 test loss 1851972.11 train rmse 0.6422 test rmse 0.8169\n",
      "train loss 4301066.33 test loss 1850612.9 train rmse 0.6417 test rmse 0.8169\n",
      "train loss 4294676.17 test loss 1849527.01 train rmse 0.6414 test rmse 0.817\n",
      "train loss 4289046.68 test loss 1848661.12 train rmse 0.641 test rmse 0.8171\n",
      "train loss 4284060.94 test loss 1847974.77 train rmse 0.6407 test rmse 0.8173\n",
      "train loss 4279624.03 test loss 1847437.25 train rmse 0.6405 test rmse 0.8174\n",
      "train loss 4275658.13 test loss 1847024.9 train rmse 0.6403 test rmse 0.8176\n",
      "train loss 4272098.88 test loss 1846718.71 train rmse 0.64 test rmse 0.8177\n",
      "train loss 4268892.69 test loss 1846502.2 train rmse 0.6399 test rmse 0.8179\n",
      "train loss 4265994.51 test loss 1846360.53 train rmse 0.6397 test rmse 0.8181\n",
      "train loss 4263366.08 test loss 1846280.62 train rmse 0.6396 test rmse 0.8182\n",
      "train loss 4260974.74 test loss 1846251.19 train rmse 0.6394 test rmse 0.8184\n",
      "train loss 4258792.45 test loss 1846262.71 train rmse 0.6393 test rmse 0.8186\n",
      "train loss 4256795.1 test loss 1846307.2 train rmse 0.6392 test rmse 0.8187\n",
      "train loss 4254961.85 test loss 1846378.19 train rmse 0.6391 test rmse 0.8189\n",
      "train loss 4253274.64 test loss 1846470.62 train rmse 0.639 test rmse 0.819\n",
      "train loss 4251717.75 test loss 1846580.67 train rmse 0.6389 test rmse 0.8192\n",
      "train loss 4250277.52 test loss 1846705.43 train rmse 0.6389 test rmse 0.8194\n",
      "train loss 4248942.02 test loss 1846842.56 train rmse 0.6388 test rmse 0.8195\n",
      "train loss 4247700.78 test loss 1846990.13 train rmse 0.6387 test rmse 0.8196\n",
      "train loss 4246544.68 test loss 1847146.44 train rmse 0.6387 test rmse 0.8198\n",
      "train loss 4245465.67 test loss 1847309.9 train rmse 0.6386 test rmse 0.8199\n",
      "train loss 4244456.69 test loss 1847478.98 train rmse 0.6386 test rmse 0.82\n",
      "train loss 4243511.51 test loss 1847652.16 train rmse 0.6385 test rmse 0.8202\n",
      "train loss 4242624.62 test loss 1847827.91 train rmse 0.6385 test rmse 0.8203\n",
      "train loss 4241791.1 test loss 1848004.76 train rmse 0.6384 test rmse 0.8204\n",
      "train loss 4241006.55 test loss 1848181.43 train rmse 0.6384 test rmse 0.8205\n",
      "train loss 4240266.99 test loss 1848356.89 train rmse 0.6384 test rmse 0.8206\n",
      "train loss 4239568.82 test loss 1848530.39 train rmse 0.6383 test rmse 0.8207\n",
      "train loss 4238908.8 test loss 1848701.31 train rmse 0.6383 test rmse 0.8208\n",
      "train loss 4238284.01 test loss 1848869.19 train rmse 0.6383 test rmse 0.8209\n",
      "train loss 4237691.84 test loss 1849033.59 train rmse 0.6382 test rmse 0.821\n",
      "train loss 4237129.89 test loss 1849194.15 train rmse 0.6382 test rmse 0.8211\n",
      "train loss 4236596.03 test loss 1849350.56 train rmse 0.6382 test rmse 0.8212\n",
      "train loss 4236088.3 test loss 1849502.54 train rmse 0.6382 test rmse 0.8213\n",
      "train loss 4235604.93 test loss 1849649.87 train rmse 0.6381 test rmse 0.8214\n",
      "train loss 4235144.29 test loss 1849792.38 train rmse 0.6381 test rmse 0.8215\n",
      "train loss 4234704.89 test loss 1849929.97 train rmse 0.6381 test rmse 0.8216\n",
      "train loss 4234285.38 test loss 1850062.59 train rmse 0.6381 test rmse 0.8216\n",
      "train loss 4233884.51 test loss 1850190.24 train rmse 0.6381 test rmse 0.8217\n",
      "train loss 4233501.14 test loss 1850312.98 train rmse 0.638 test rmse 0.8218\n",
      "train loss 4233134.21 test loss 1850430.88 train rmse 0.638 test rmse 0.8218\n",
      "train loss 4232782.78 test loss 1850544.04 train rmse 0.638 test rmse 0.8219\n",
      "train loss 4232445.95 test loss 1850652.51 train rmse 0.638 test rmse 0.822\n",
      "train loss 4232122.91 test loss 1850756.33 train rmse 0.638 test rmse 0.822\n",
      "train loss 4231812.87 test loss 1850855.55 train rmse 0.638 test rmse 0.8221\n",
      "train loss 4231515.11 test loss 1850950.25 train rmse 0.638 test rmse 0.8221\n",
      "train loss 4231228.95 test loss 1851040.53 train rmse 0.6379 test rmse 0.8222\n",
      "train loss 4230953.75 test loss 1851126.53 train rmse 0.6379 test rmse 0.8222\n",
      "train loss 4230688.91 test loss 1851208.39 train rmse 0.6379 test rmse 0.8223\n",
      "train loss 4230433.88 test loss 1851286.28 train rmse 0.6379 test rmse 0.8223\n",
      "train loss 4230188.13 test loss 1851360.32 train rmse 0.6379 test rmse 0.8224\n",
      "train loss 4229951.19 test loss 1851430.59 train rmse 0.6379 test rmse 0.8224\n",
      "train loss 4229722.65 test loss 1851497.17 train rmse 0.6379 test rmse 0.8225\n",
      "train loss 4229502.08 test loss 1851560.12 train rmse 0.6379 test rmse 0.8225\n",
      "train loss 4229289.12 test loss 1851619.59 train rmse 0.6379 test rmse 0.8225\n",
      "train loss 4229083.38 test loss 1851675.71 train rmse 0.6378 test rmse 0.8226\n",
      "train loss 4228884.51 test loss 1851728.65 train rmse 0.6378 test rmse 0.8226\n",
      "train loss 4228692.19 test loss 1851778.6 train rmse 0.6378 test rmse 0.8226\n",
      "train loss 4228506.1 test loss 1851825.7 train rmse 0.6378 test rmse 0.8227\n",
      "train loss 4228325.94 test loss 1851870.12 train rmse 0.6378 test rmse 0.8227\n",
      "train loss 4228151.44 test loss 1851912.02 train rmse 0.6378 test rmse 0.8227\n",
      "train loss 4227982.33 test loss 1851951.51 train rmse 0.6378 test rmse 0.8228\n",
      "train loss 4227818.37 test loss 1851988.72 train rmse 0.6378 test rmse 0.8228\n",
      "train loss 4227659.32 test loss 1852023.76 train rmse 0.6378 test rmse 0.8228\n",
      "train loss 4227504.97 test loss 1852056.74 train rmse 0.6378 test rmse 0.8228\n",
      "train loss 4227355.1 test loss 1852087.74 train rmse 0.6378 test rmse 0.8229\n",
      "train loss 4227209.51 test loss 1852116.88 train rmse 0.6378 test rmse 0.8229\n",
      "train loss 4227068.02 test loss 1852144.25 train rmse 0.6378 test rmse 0.8229\n",
      "train loss 4226930.44 test loss 1852169.93 train rmse 0.6378 test rmse 0.8229\n",
      "train loss 4226796.6 test loss 1852194.04 train rmse 0.6377 test rmse 0.8229\n",
      "train loss 4226666.35 test loss 1852216.68 train rmse 0.6377 test rmse 0.823\n",
      "train loss 4226539.54 test loss 1852237.94 train rmse 0.6377 test rmse 0.823\n",
      "train loss 4226416.02 test loss 1852257.92 train rmse 0.6377 test rmse 0.823\n",
      "train loss 4226295.68 test loss 1852276.7 train rmse 0.6377 test rmse 0.823\n",
      "train loss 4226178.39 test loss 1852294.35 train rmse 0.6377 test rmse 0.823\n",
      "train loss 4226064.05 test loss 1852310.92 train rmse 0.6377 test rmse 0.823\n",
      "train loss 4225952.54 test loss 1852326.46 train rmse 0.6377 test rmse 0.8231\n",
      "train loss 4225843.76 test loss 1852341.01 train rmse 0.6377 test rmse 0.8231\n",
      "train loss 4225737.63 test loss 1852354.59 train rmse 0.6377 test rmse 0.8231\n",
      "train loss 4225634.03 test loss 1852367.25 train rmse 0.6377 test rmse 0.8231\n",
      "train loss 4225532.89 test loss 1852379.01 train rmse 0.6377 test rmse 0.8231\n",
      "train loss 4225434.11 test loss 1852389.91 train rmse 0.6377 test rmse 0.8231\n",
      "train loss 4225337.61 test loss 1852399.99 train rmse 0.6377 test rmse 0.8231\n"
     ]
    }
   ],
   "source": [
    "from tqdm.notebook import tqdm\n",
    "\n",
    "for i in tqdm(range(n_epochs)):\n",
    "    for m in range(M):\n",
    "        # Extract ratings and indices for the current user\n",
    "        if len(train_user_ratings_list) > 0:\n",
    "            ratings = train_user_ratings_list[m][:, 1]\n",
    "            indices = train_user_ratings_list[m][:, 0].astype(int)\n",
    "            \n",
    "            # Calculate user bias\n",
    "            user_bias = lmb * np.sum(ratings - np.einsum('i,ji->j', U[m], V[indices]) - item_biases[indices]) / (lmb * len(indices) + gamma)\n",
    "            user_biases[m] = user_bias\n",
    "            \n",
    "            # Calculate left and right matrices for user factor update\n",
    "            left = np.sum(np.einsum('ij,il->ijl', V[indices], V[indices]), axis=0)\n",
    "            right = np.sum(np.einsum('ji,j->ji', V[indices], ratings - user_bias - item_biases[indices]), axis=0)\n",
    "            \n",
    "            # Update user factor\n",
    "            U[m] = np.linalg.solve(lmb * left + tau * np.eye(k), lmb * right)\n",
    "\n",
    "    for n in range(N):\n",
    "        # Extract ratings and indices for the current item\n",
    "        if len(train_movie_ratings_list[n]) > 0:\n",
    "            ratings = train_movie_ratings_list[n][:, 1]\n",
    "            indices = train_movie_ratings_list[n][:, 0].astype(int)\n",
    "            \n",
    "            # Calculate item bias\n",
    "            item_bias = lmb * np.sum(ratings - np.einsum('ij,j->i', U[indices], V[n]) - user_biases[indices]) / (lmb * len(indices) + gamma)\n",
    "            item_biases[n] = item_bias\n",
    "            \n",
    "            # Calculate left and right matrices for item factor update\n",
    "            left = np.sum(np.einsum('ij,il->ijl', U[indices], U[indices]), axis=0)\n",
    "            right = np.sum(np.einsum('ji,j->ji', U[indices], ratings - user_biases[indices] - item_bias), axis=0)\n",
    "            \n",
    "            # Update item factor\n",
    "            V[n] = np.linalg.solve(lmb * left + tau * np.eye(k), lmb * right)\n",
    "\n",
    "    # Calculate loss and RMSE\n",
    "    train_error_squared = 0\n",
    "    train_size = 0\n",
    "    test_error_squared = 0\n",
    "    test_size = 0\n",
    "    \n",
    "    for m in range(M):\n",
    "        if len(train_user_ratings_list[m]) > 0:\n",
    "            train_ratings = train_user_ratings_list[m][:, 1]\n",
    "            train_indices = train_user_ratings_list[m][:, 0].astype(int)\n",
    "            train_error_squared += np.sum((train_ratings - np.einsum('i,ji->j', U[m], V[train_indices]) - user_biases[m] - item_biases[train_indices])**2)\n",
    "            train_size += len(train_indices)\n",
    "            \n",
    "        if len(test_user_ratings_list[m]) > 0:\n",
    "            test_ratings = test_user_ratings_list[m][:, 1]\n",
    "            test_indices = test_user_ratings_list[m][:, 0].astype(int)\n",
    "            test_error_squared += np.sum((test_ratings - np.einsum('i,ji->j', U[m], V[test_indices]) - user_biases[m] - item_biases[test_indices])**2)\n",
    "            test_size += len(test_indices)\n",
    "        \n",
    "    train_loss = -0.5 * lmb * train_error_squared - 0.5 * gamma * np.sum(user_biases**2) - 0.5 * gamma * np.sum(item_biases**2) - 0.5 * tau * (np.einsum('ij,ij->', V, V) + np.einsum('ij,ij->', U, U))\n",
    "    train_rmse = np.sqrt(1 / train_size * train_error_squared)\n",
    "    \n",
    "    train_losses.append(-1*train_loss)\n",
    "    train_rmses.append(train_rmse)\n",
    "\n",
    "    test_loss = -0.5 * lmb * test_error_squared - 0.5 * gamma * np.sum(user_biases**2) - 0.5 * gamma * np.sum(item_biases**2) - 0.5 * tau * (np.einsum('ij, ij->', V, V) + np.einsum('ij, ij->', U, U))\n",
    "    test_rmse = np.sqrt(1/test_size * test_error_squared)\n",
    "    \n",
    "    test_losses.append(-1*test_loss)\n",
    "    test_rmses.append(test_rmse)\n",
    "        \n",
    "    print(f'train loss {round(-1*train_loss, 2)} test loss {round(-1*test_loss, 2)} train rmse {round(train_rmse, 4)} test rmse {round(test_rmse, 4)}')"
   ]
  },
  {
   "cell_type": "code",
   "execution_count": 9,
   "metadata": {},
   "outputs": [],
   "source": [
    "params = {\n",
    "    'user_biases':user_biases,\n",
    "    'item_biases':item_biases,\n",
    "    'n_epochs':n_epochs, \n",
    "    'lmb':lmb, \n",
    "    'gamma':gamma, \n",
    "    'tau':tau, \n",
    "    'k': k, \n",
    "    'U':U, \n",
    "    'V': V, \n",
    "    'train_rmses':train_rmses, \n",
    "    'train_losses':train_losses,\n",
    "    'test_rmses': test_rmses,\n",
    "    'test_losses': test_losses,\n",
    "}"
   ]
  },
  {
   "cell_type": "code",
   "execution_count": 10,
   "metadata": {},
   "outputs": [],
   "source": [
    "import pickle\n",
    "import lzma\n",
    "import datetime;\n",
    " \n",
    "# ct stores current time\n",
    "ct = datetime.datetime.now()\n",
    "\n",
    "with lzma.open(f'params_k={k}_{ct}.xz', 'wb') as f:\n",
    "    pickle.dump(params, f, protocol=4)"
   ]
  },
  {
   "cell_type": "code",
   "execution_count": 41,
   "metadata": {},
   "outputs": [
    {
     "data": {
      "image/png": "[encoded data removed]",
      "text/plain": [
       "<Figure size 640x480 with 1 Axes>"
      ]
     },
     "metadata": {},
     "output_type": "display_data"
    }
   ],
   "source": [
    "import matplotlib.pyplot as plt\n",
    "\n",
    "plt.plot(train_losses, label='train')\n",
    "plt.plot(test_losses, label='test')\n",
    "plt.legend()\n",
    "plt.show()"
   ]
  },
  {
   "cell_type": "code",
   "execution_count": 42,
   "metadata": {},
   "outputs": [
    {
     "data": {
      "image/png": "[encoded data removed]",
      "text/plain": [
       "<Figure size 640x480 with 1 Axes>"
      ]
     },
     "metadata": {},
     "output_type": "display_data"
    }
   ],
   "source": [
    "plt.plot(train_rmses, label='train')\n",
    "plt.plot(test_rmses, label='test')\n",
    "plt.legend()\n",
    "plt.show()"
   ]
  }
 ],
 "metadata": {
  "kernelspec": {
   "display_name": "applied-ml",
   "language": "python",
   "name": "applied-ml"
  },
  "language_info": {
   "codemirror_mode": {
    "name": "ipython",
    "version": 3
   },
   "file_extension": ".py",
   "mimetype": "text/x-python",
   "name": "python",
   "nbconvert_exporter": "python",
   "pygments_lexer": "ipython3",
   "version": "3.11.2"
  }
 },
 "nbformat": 4,
 "nbformat_minor": 4
}
